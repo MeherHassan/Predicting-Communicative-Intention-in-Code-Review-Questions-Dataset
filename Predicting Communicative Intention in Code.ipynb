{
 "cells": [
  {
   "cell_type": "code",
   "execution_count": 23,
   "metadata": {
    "scrolled": false
   },
   "outputs": [
    {
     "name": "stdout",
     "output_type": "stream",
     "text": [
      "Original text: is this what they intended? don't they really want $(TARGET_OUT_DATA_NATIVE_TEST)?\n",
      "\n",
      "\n",
      "Cleaned text: thi intend realli want\n"
     ]
    },
    {
     "data": {
      "text/html": [
       "<div>\n",
       "<style scoped>\n",
       "    .dataframe tbody tr th:only-of-type {\n",
       "        vertical-align: middle;\n",
       "    }\n",
       "\n",
       "    .dataframe tbody tr th {\n",
       "        vertical-align: top;\n",
       "    }\n",
       "\n",
       "    .dataframe thead th {\n",
       "        text-align: right;\n",
       "    }\n",
       "</style>\n",
       "<table border=\"1\" class=\"dataframe\">\n",
       "  <thead>\n",
       "    <tr style=\"text-align: right;\">\n",
       "      <th></th>\n",
       "      <th>inline-comment-id</th>\n",
       "      <th># Comment</th>\n",
       "      <th>Question</th>\n",
       "      <th>Final Label</th>\n",
       "      <th>cleaned_review</th>\n",
       "    </tr>\n",
       "  </thead>\n",
       "  <tbody>\n",
       "    <tr>\n",
       "      <th>0</th>\n",
       "      <td>84326dd1_566c7146</td>\n",
       "      <td>1</td>\n",
       "      <td>is this what they intended? don't they really ...</td>\n",
       "      <td>request for confirmation</td>\n",
       "      <td>thi intend realli want</td>\n",
       "    </tr>\n",
       "    <tr>\n",
       "      <th>1</th>\n",
       "      <td>84326dd1_566c7146</td>\n",
       "      <td>2</td>\n",
       "      <td>is this what they intended? don't they really ...</td>\n",
       "      <td>surprise</td>\n",
       "      <td>thi intend realli want</td>\n",
       "    </tr>\n",
       "    <tr>\n",
       "      <th>2</th>\n",
       "      <td>99d1f8e4_92b31cea</td>\n",
       "      <td>3</td>\n",
       "      <td>Don't we need to increment 'i' in the else cas...</td>\n",
       "      <td>suggestion</td>\n",
       "      <td>Do need increment els case avoid infinit loop</td>\n",
       "    </tr>\n",
       "    <tr>\n",
       "      <th>3</th>\n",
       "      <td>193d089f_f5fac752</td>\n",
       "      <td>4</td>\n",
       "      <td>i can't see anywhere where this is set to fals...</td>\n",
       "      <td>suggestion</td>\n",
       "      <td>ca see anywher thi set fals adjust singl refer...</td>\n",
       "    </tr>\n",
       "    <tr>\n",
       "      <th>4</th>\n",
       "      <td>50c2f81e_ac4fd6fc</td>\n",
       "      <td>5</td>\n",
       "      <td>are you sure you want to include this source f...</td>\n",
       "      <td>criticism</td>\n",
       "      <td>sure want includ thi sourc file directli whi c...</td>\n",
       "    </tr>\n",
       "    <tr>\n",
       "      <th>...</th>\n",
       "      <td>...</td>\n",
       "      <td>...</td>\n",
       "      <td>...</td>\n",
       "      <td>...</td>\n",
       "      <td>...</td>\n",
       "    </tr>\n",
       "    <tr>\n",
       "      <th>95</th>\n",
       "      <td>64367de0_d87fa584</td>\n",
       "      <td>96</td>\n",
       "      <td>CONFIG_SND_RAWMIDI was in previous version.\\nW...</td>\n",
       "      <td>request for clarification</td>\n",
       "      <td>wa previou version wa correct remov</td>\n",
       "    </tr>\n",
       "    <tr>\n",
       "      <th>96</th>\n",
       "      <td>a46156bd_1a1a193a</td>\n",
       "      <td>97</td>\n",
       "      <td>What would the right solution look like after ...</td>\n",
       "      <td>request for clarification</td>\n",
       "      <td>would right solut look like refactor</td>\n",
       "    </tr>\n",
       "    <tr>\n",
       "      <th>97</th>\n",
       "      <td>79fd56bf_7fd12f55</td>\n",
       "      <td>98</td>\n",
       "      <td>What does this comment tell us, that the code ...</td>\n",
       "      <td>criticism</td>\n",
       "      <td>doe thi comment tell us code doe</td>\n",
       "    </tr>\n",
       "    <tr>\n",
       "      <th>98</th>\n",
       "      <td>b988aea5_1f8923b9</td>\n",
       "      <td>99</td>\n",
       "      <td>Which exceptions do you need to catch here? Is...</td>\n",
       "      <td>request for information</td>\n",
       "      <td>except need catch Is securityexcept We usual e...</td>\n",
       "    </tr>\n",
       "    <tr>\n",
       "      <th>99</th>\n",
       "      <td>b988aea5_1f8923b9</td>\n",
       "      <td>100</td>\n",
       "      <td>Which exceptions do you need to catch here? Is...</td>\n",
       "      <td>request for confirmation</td>\n",
       "      <td>except need catch Is securityexcept We usual e...</td>\n",
       "    </tr>\n",
       "  </tbody>\n",
       "</table>\n",
       "<p>100 rows × 5 columns</p>\n",
       "</div>"
      ],
      "text/plain": [
       "    inline-comment-id  # Comment  \\\n",
       "0   84326dd1_566c7146          1   \n",
       "1   84326dd1_566c7146          2   \n",
       "2   99d1f8e4_92b31cea          3   \n",
       "3   193d089f_f5fac752          4   \n",
       "4   50c2f81e_ac4fd6fc          5   \n",
       "..                ...        ...   \n",
       "95  64367de0_d87fa584         96   \n",
       "96  a46156bd_1a1a193a         97   \n",
       "97  79fd56bf_7fd12f55         98   \n",
       "98  b988aea5_1f8923b9         99   \n",
       "99  b988aea5_1f8923b9        100   \n",
       "\n",
       "                                             Question  \\\n",
       "0   is this what they intended? don't they really ...   \n",
       "1   is this what they intended? don't they really ...   \n",
       "2   Don't we need to increment 'i' in the else cas...   \n",
       "3   i can't see anywhere where this is set to fals...   \n",
       "4   are you sure you want to include this source f...   \n",
       "..                                                ...   \n",
       "95  CONFIG_SND_RAWMIDI was in previous version.\\nW...   \n",
       "96  What would the right solution look like after ...   \n",
       "97  What does this comment tell us, that the code ...   \n",
       "98  Which exceptions do you need to catch here? Is...   \n",
       "99  Which exceptions do you need to catch here? Is...   \n",
       "\n",
       "                  Final Label  \\\n",
       "0    request for confirmation   \n",
       "1                    surprise   \n",
       "2                  suggestion   \n",
       "3                  suggestion   \n",
       "4                   criticism   \n",
       "..                        ...   \n",
       "95  request for clarification   \n",
       "96  request for clarification   \n",
       "97                  criticism   \n",
       "98    request for information   \n",
       "99   request for confirmation   \n",
       "\n",
       "                                       cleaned_review  \n",
       "0                              thi intend realli want  \n",
       "1                              thi intend realli want  \n",
       "2       Do need increment els case avoid infinit loop  \n",
       "3   ca see anywher thi set fals adjust singl refer...  \n",
       "4   sure want includ thi sourc file directli whi c...  \n",
       "..                                                ...  \n",
       "95                wa previou version wa correct remov  \n",
       "96               would right solut look like refactor  \n",
       "97                   doe thi comment tell us code doe  \n",
       "98  except need catch Is securityexcept We usual e...  \n",
       "99  except need catch Is securityexcept We usual e...  \n",
       "\n",
       "[100 rows x 5 columns]"
      ]
     },
     "execution_count": 23,
     "metadata": {},
     "output_type": "execute_result"
    }
   ],
   "source": [
    "import nltk\n",
    "import pandas as pd\n",
    "from nltk.stem import PorterStemmer\n",
    "from nltk.corpus import stopwords\n",
    "\n",
    "# If not previously performed:\n",
    "# nltk.download('stopwords')\n",
    "\n",
    "stemming = PorterStemmer()\n",
    "stops = set(stopwords.words(\"english\"))\n",
    "\n",
    "def apply_cleaning_function_to_list(X):\n",
    "    cleaned_X = []\n",
    "    for element in X:\n",
    "        cleaned_X.append(clean_text(element))\n",
    "    return cleaned_X\n",
    "\n",
    "\n",
    "def clean_text(raw_text):\n",
    "    \"\"\"This function works on a raw text string, and:\n",
    "        1) changes to lower case\n",
    "        2) tokenizes (breaks down into words\n",
    "        3) removes punctuation and non-word text\n",
    "        4) finds word stems\n",
    "        5) removes stop words\n",
    "        6) rejoins meaningful stem words\"\"\"\n",
    "    \n",
    "    #Convert to lower case Doesn't work because one column is numeric \n",
    "    #text = raw_text.lower()\n",
    "    \n",
    "    # Tokenize\n",
    "    tokens = nltk.word_tokenize(raw_text)\n",
    "    \n",
    "    # Keep only words (removes punctuation + numbers)\n",
    "    # use .isalnum to keep also numbers\n",
    "    token_words = [w for w in tokens if w.isalpha()]\n",
    "    \n",
    "    # Stemming\n",
    "    stemmed_words = [stemming.stem(w) for w in token_words]\n",
    "    \n",
    "    # Remove stop words\n",
    "    meaningful_words = [w for w in stemmed_words if not w in stops]\n",
    "    \n",
    "    # Rejoin meaningful stemmed words\n",
    "    joined_words = ( \" \".join(meaningful_words))\n",
    "    \n",
    "    # Return cleaned data\n",
    "    return joined_words\n",
    "\n",
    "\n",
    "### APPLY FUNCTIONS TO EXAMPLE DATA\n",
    "\n",
    "# Load data example\n",
    "imdb = pd.read_excel(\"assignment.xlsx\")\n",
    "\n",
    "\n",
    "# Truncate data for example\n",
    "imdb = imdb.head(100)\n",
    "\n",
    "# Get text to clean\n",
    "text_to_clean = list(imdb['Question'])\n",
    "\n",
    "# Clean text\n",
    "cleaned_text = apply_cleaning_function_to_list(text_to_clean)\n",
    "\n",
    "# Show first example\n",
    "print ('Original text:',text_to_clean[0])\n",
    "print ('\\nCleaned text:', cleaned_text[0])\n",
    "\n",
    "# Add cleaned data back into DataFrame\n",
    "imdb['cleaned_review'] = cleaned_text\n",
    "imdb"
   ]
  },
  {
   "cell_type": "code",
   "execution_count": null,
   "metadata": {},
   "outputs": [],
   "source": []
  },
  {
   "cell_type": "code",
   "execution_count": 2,
   "metadata": {},
   "outputs": [],
   "source": [
    "from sklearn import preprocessing\n",
    "le = preprocessing.LabelEncoder()\n",
    "\n",
    "for column_name in imdb.columns:\n",
    "    \n",
    "    if imdb[column_name].dtype == object:\n",
    "        imdb[column_name] = le.fit_transform(imdb[column_name])\n",
    "        \n",
    "    else:\n",
    "        pass\n",
    "            \n"
   ]
  },
  {
   "cell_type": "code",
   "execution_count": 3,
   "metadata": {},
   "outputs": [],
   "source": [
    "X = imdb['cleaned_review']\n",
    "y = imdb['Final Label']"
   ]
  },
  {
   "cell_type": "code",
   "execution_count": 4,
   "metadata": {},
   "outputs": [],
   "source": [
    "  ##################### Task 1 ###################################\n",
    "from sklearn.model_selection import train_test_split\n",
    "\n",
    "X_train, X_test, y_train, y_test = train_test_split(X,y, test_size=0.2)"
   ]
  },
  {
   "cell_type": "code",
   "execution_count": 5,
   "metadata": {},
   "outputs": [
    {
     "name": "stderr",
     "output_type": "stream",
     "text": [
      "C:\\Users\\RAMBO\\anaconda3\\lib\\site-packages\\sklearn\\linear_model\\_logistic.py:763: ConvergenceWarning: lbfgs failed to converge (status=1):\n",
      "STOP: TOTAL NO. of ITERATIONS REACHED LIMIT.\n",
      "\n",
      "Increase the number of iterations (max_iter) or scale the data as shown in:\n",
      "    https://scikit-learn.org/stable/modules/preprocessing.html\n",
      "Please also refer to the documentation for alternative solver options:\n",
      "    https://scikit-learn.org/stable/modules/linear_model.html#logistic-regression\n",
      "  n_iter_i = _check_optimize_result(\n"
     ]
    }
   ],
   "source": [
    "from sklearn.linear_model import LogisticRegression\n",
    "clf = LogisticRegression(random_state=0).fit(X_train.values.reshape(-1,1), y_train)"
   ]
  },
  {
   "cell_type": "code",
   "execution_count": 6,
   "metadata": {},
   "outputs": [
    {
     "data": {
      "text/plain": [
       "array([[0.03190702, 0.01429061, 0.02038781, 0.01918142, 0.02405667,\n",
       "        0.29234541, 0.13009821, 0.01601694, 0.06143285, 0.02855263,\n",
       "        0.35445155, 0.00727888],\n",
       "       [0.03130041, 0.01394426, 0.01975174, 0.0186856 , 0.02299469,\n",
       "        0.29289388, 0.13158586, 0.01601862, 0.06107237, 0.02968074,\n",
       "        0.35510737, 0.00696446],\n",
       "       [0.03251949, 0.01464292, 0.02104055, 0.01968682, 0.02516314,\n",
       "        0.29174507, 0.12860406, 0.01601237, 0.06178425, 0.02746242,\n",
       "        0.3537328 , 0.00760611],\n",
       "       [0.03190702, 0.01429061, 0.02038781, 0.01918142, 0.02405667,\n",
       "        0.29234541, 0.13009821, 0.01601694, 0.06143285, 0.02855263,\n",
       "        0.35445155, 0.00727888],\n",
       "       [0.03502387, 0.01611112, 0.02382285, 0.02180448, 0.03006576,\n",
       "        0.28881723, 0.12256847, 0.01596429, 0.06309239, 0.02345849,\n",
       "        0.35021902, 0.00905203],\n",
       "       [0.03010547, 0.01326942, 0.0185286 , 0.01772261, 0.02099807,\n",
       "        0.29383674, 0.13454041, 0.0160134 , 0.06032548, 0.03205529,\n",
       "        0.35623212, 0.00637237],\n",
       "       [0.03251949, 0.01464292, 0.02104055, 0.01968682, 0.02516314,\n",
       "        0.29174507, 0.12860406, 0.01601237, 0.06178425, 0.02746242,\n",
       "        0.3537328 , 0.00760611],\n",
       "       [0.03130041, 0.01394426, 0.01975174, 0.0186856 , 0.02299469,\n",
       "        0.29289388, 0.13158586, 0.01601862, 0.06107237, 0.02968074,\n",
       "        0.35510737, 0.00696446],\n",
       "       [0.03502387, 0.01611112, 0.02382285, 0.02180448, 0.03006576,\n",
       "        0.28881723, 0.12256847, 0.01596429, 0.06309239, 0.02345849,\n",
       "        0.35021902, 0.00905203],\n",
       "       [0.03502387, 0.01611112, 0.02382285, 0.02180448, 0.03006576,\n",
       "        0.28881723, 0.12256847, 0.01596429, 0.06309239, 0.02345849,\n",
       "        0.35021902, 0.00905203],\n",
       "       [0.03502387, 0.01611112, 0.02382285, 0.02180448, 0.03006576,\n",
       "        0.28881723, 0.12256847, 0.01596429, 0.06309239, 0.02345849,\n",
       "        0.35021902, 0.00905203],\n",
       "       [0.03376122, 0.0153653 , 0.02239699, 0.02072645, 0.02751583,\n",
       "        0.29038724, 0.12559749, 0.01599435, 0.06245851, 0.02539122,\n",
       "        0.35210464, 0.00830077],\n",
       "       [0.03313762, 0.01500116, 0.0217102 , 0.02020183, 0.02631565,\n",
       "        0.29109248, 0.12710372, 0.01600485, 0.06212625, 0.02640898,\n",
       "        0.35295066, 0.00794659],\n",
       "       [0.03502387, 0.01611112, 0.02382285, 0.02180448, 0.03006576,\n",
       "        0.28881723, 0.12256847, 0.01596429, 0.06309239, 0.02345849,\n",
       "        0.35021902, 0.00905203],\n",
       "       [0.02893591, 0.01261842, 0.01736906, 0.0167975 , 0.01916142,\n",
       "        0.29457662, 0.13746517, 0.015997  , 0.05954608, 0.03459561,\n",
       "        0.35711067, 0.00582655],\n",
       "       [0.03130041, 0.01394426, 0.01975174, 0.0186856 , 0.02299469,\n",
       "        0.29289388, 0.13158586, 0.01601862, 0.06107237, 0.02968074,\n",
       "        0.35510737, 0.00696446],\n",
       "       [0.03502387, 0.01611112, 0.02382285, 0.02180448, 0.03006576,\n",
       "        0.28881723, 0.12256847, 0.01596429, 0.06309239, 0.02345849,\n",
       "        0.35021902, 0.00905203],\n",
       "       [0.03130041, 0.01394426, 0.01975174, 0.0186856 , 0.02299469,\n",
       "        0.29289388, 0.13158586, 0.01601862, 0.06107237, 0.02968074,\n",
       "        0.35510737, 0.00696446],\n",
       "       [0.03502387, 0.01611112, 0.02382285, 0.02180448, 0.03006576,\n",
       "        0.28881723, 0.12256847, 0.01596429, 0.06309239, 0.02345849,\n",
       "        0.35021902, 0.00905203],\n",
       "       [0.03376122, 0.0153653 , 0.02239699, 0.02072645, 0.02751583,\n",
       "        0.29038724, 0.12559749, 0.01599435, 0.06245851, 0.02539122,\n",
       "        0.35210464, 0.00830077]])"
      ]
     },
     "execution_count": 6,
     "metadata": {},
     "output_type": "execute_result"
    }
   ],
   "source": [
    "clf.predict_proba(y_test.values.reshape(-1,1))"
   ]
  },
  {
   "cell_type": "markdown",
   "metadata": {},
   "source": [
    "## TASK 1 ACCURACY"
   ]
  },
  {
   "cell_type": "code",
   "execution_count": 7,
   "metadata": {},
   "outputs": [
    {
     "name": "stdout",
     "output_type": "stream",
     "text": [
      "Task 1 Accuracy\n"
     ]
    },
    {
     "data": {
      "text/plain": [
       "0.4"
      ]
     },
     "execution_count": 7,
     "metadata": {},
     "output_type": "execute_result"
    }
   ],
   "source": [
    "print(\"Task 1 Accuracy\")\n",
    "clf.score(X_test.values.reshape(-1,1), y_test)"
   ]
  },
  {
   "cell_type": "code",
   "execution_count": 8,
   "metadata": {},
   "outputs": [
    {
     "name": "stderr",
     "output_type": "stream",
     "text": [
      "C:\\Users\\RAMBO\\anaconda3\\lib\\site-packages\\sklearn\\linear_model\\_logistic.py:763: ConvergenceWarning: lbfgs failed to converge (status=1):\n",
      "STOP: TOTAL NO. of ITERATIONS REACHED LIMIT.\n",
      "\n",
      "Increase the number of iterations (max_iter) or scale the data as shown in:\n",
      "    https://scikit-learn.org/stable/modules/preprocessing.html\n",
      "Please also refer to the documentation for alternative solver options:\n",
      "    https://scikit-learn.org/stable/modules/linear_model.html#logistic-regression\n",
      "  n_iter_i = _check_optimize_result(\n"
     ]
    }
   ],
   "source": [
    "################################# Task 2 #####################################\n",
    "X = imdb[['Question','inline-comment-id']]\n",
    "y= imdb['Final Label']\n",
    "from sklearn.model_selection import train_test_split\n",
    "\n",
    "X_train, X_test, y_train, y_test = train_test_split(X,y, test_size=0.2)\n",
    "\n",
    "from sklearn.linear_model import LogisticRegression\n",
    "clf = LogisticRegression().fit(X_train, y_train)"
   ]
  },
  {
   "cell_type": "markdown",
   "metadata": {},
   "source": [
    "## TASK 2 ACCURACY"
   ]
  },
  {
   "cell_type": "code",
   "execution_count": 9,
   "metadata": {},
   "outputs": [
    {
     "name": "stdout",
     "output_type": "stream",
     "text": [
      "Task 2 Accuracy\n"
     ]
    },
    {
     "data": {
      "text/plain": [
       "0.55"
      ]
     },
     "execution_count": 9,
     "metadata": {},
     "output_type": "execute_result"
    }
   ],
   "source": [
    "print(\"Task 2 Accuracy\")\n",
    "clf.score(X_test, y_test)"
   ]
  },
  {
   "cell_type": "code",
   "execution_count": 10,
   "metadata": {},
   "outputs": [
    {
     "data": {
      "text/plain": [
       "(80, 2)"
      ]
     },
     "execution_count": 10,
     "metadata": {},
     "output_type": "execute_result"
    }
   ],
   "source": [
    "X_train.shape\n"
   ]
  },
  {
   "cell_type": "code",
   "execution_count": 11,
   "metadata": {},
   "outputs": [
    {
     "data": {
      "text/plain": [
       "(80,)"
      ]
     },
     "execution_count": 11,
     "metadata": {},
     "output_type": "execute_result"
    }
   ],
   "source": [
    "y_train.shape"
   ]
  },
  {
   "cell_type": "code",
   "execution_count": 12,
   "metadata": {},
   "outputs": [
    {
     "name": "stderr",
     "output_type": "stream",
     "text": [
      "C:\\Users\\RAMBO\\anaconda3\\lib\\site-packages\\sklearn\\linear_model\\_logistic.py:763: ConvergenceWarning: lbfgs failed to converge (status=1):\n",
      "STOP: TOTAL NO. of ITERATIONS REACHED LIMIT.\n",
      "\n",
      "Increase the number of iterations (max_iter) or scale the data as shown in:\n",
      "    https://scikit-learn.org/stable/modules/preprocessing.html\n",
      "Please also refer to the documentation for alternative solver options:\n",
      "    https://scikit-learn.org/stable/modules/linear_model.html#logistic-regression\n",
      "  n_iter_i = _check_optimize_result(\n"
     ]
    }
   ],
   "source": [
    "############## Task 3 #######################333\n",
    "X = imdb[['cleaned_review','inline-comment-id']]\n",
    "y = imdb['Final Label']\n",
    "\n",
    "from sklearn.model_selection import train_test_split\n",
    "\n",
    "X_train, X_test, y_train, y_test = train_test_split(X,y, test_size=0.2)\n",
    "\n",
    "from sklearn.linear_model import LogisticRegression\n",
    "clf = LogisticRegression().fit(X_train, y_train)"
   ]
  },
  {
   "cell_type": "markdown",
   "metadata": {},
   "source": [
    "## TASK 3 ACCURACY"
   ]
  },
  {
   "cell_type": "code",
   "execution_count": 13,
   "metadata": {},
   "outputs": [
    {
     "name": "stdout",
     "output_type": "stream",
     "text": [
      "Task 3 Accuracy\n"
     ]
    },
    {
     "data": {
      "text/plain": [
       "0.1"
      ]
     },
     "execution_count": 13,
     "metadata": {},
     "output_type": "execute_result"
    }
   ],
   "source": [
    "print(\"Task 3 Accuracy\")\n",
    "clf.score(X_test, y_test)"
   ]
  },
  {
   "cell_type": "code",
   "execution_count": 14,
   "metadata": {},
   "outputs": [
    {
     "name": "stderr",
     "output_type": "stream",
     "text": [
      "WARNING: pip is being invoked by an old script wrapper. This will fail in a future version of pip.\n",
      "Please see https://github.com/pypa/pip/issues/5599 for advice on fixing the underlying issue.\n",
      "To avoid this problem you can invoke Python with '-m pip' instead of running pip directly.\n"
     ]
    },
    {
     "name": "stdout",
     "output_type": "stream",
     "text": [
      "Requirement already satisfied: imbalanced-learn in c:\\users\\rambo\\anaconda3\\lib\\site-packages (0.8.0)\n",
      "Requirement already satisfied: scipy>=0.19.1 in c:\\users\\rambo\\anaconda3\\lib\\site-packages (from imbalanced-learn) (1.5.2)\n",
      "Requirement already satisfied: scikit-learn>=0.24 in c:\\users\\rambo\\anaconda3\\lib\\site-packages (from imbalanced-learn) (0.24.1)\n",
      "Requirement already satisfied: numpy>=1.13.3 in c:\\users\\rambo\\anaconda3\\lib\\site-packages (from imbalanced-learn) (1.19.2)\n",
      "Requirement already satisfied: joblib>=0.11 in c:\\users\\rambo\\anaconda3\\lib\\site-packages (from imbalanced-learn) (0.17.0)\n",
      "Requirement already satisfied: threadpoolctl>=2.0.0 in c:\\users\\rambo\\anaconda3\\lib\\site-packages (from scikit-learn>=0.24->imbalanced-learn) (2.1.0)\n"
     ]
    },
    {
     "data": {
      "text/plain": [
       "0"
      ]
     },
     "execution_count": 14,
     "metadata": {},
     "output_type": "execute_result"
    }
   ],
   "source": [
    "########################### Task 4 ################################\n",
    "import pip\n",
    "pip.main(['install','imbalanced-learn'])"
   ]
  },
  {
   "cell_type": "code",
   "execution_count": 15,
   "metadata": {},
   "outputs": [],
   "source": [
    "#y_train.value_counts()"
   ]
  },
  {
   "cell_type": "code",
   "execution_count": 16,
   "metadata": {
    "scrolled": false
   },
   "outputs": [
    {
     "name": "stderr",
     "output_type": "stream",
     "text": [
      "C:\\Users\\RAMBO\\anaconda3\\lib\\site-packages\\sklearn\\linear_model\\_logistic.py:763: ConvergenceWarning: lbfgs failed to converge (status=1):\n",
      "STOP: TOTAL NO. of ITERATIONS REACHED LIMIT.\n",
      "\n",
      "Increase the number of iterations (max_iter) or scale the data as shown in:\n",
      "    https://scikit-learn.org/stable/modules/preprocessing.html\n",
      "Please also refer to the documentation for alternative solver options:\n",
      "    https://scikit-learn.org/stable/modules/linear_model.html#logistic-regression\n",
      "  n_iter_i = _check_optimize_result(\n"
     ]
    },
    {
     "data": {
      "text/plain": [
       "LogisticRegression()"
      ]
     },
     "execution_count": 16,
     "metadata": {},
     "output_type": "execute_result"
    }
   ],
   "source": [
    "##########  Task 4 ######\n",
    "from imblearn.over_sampling import RandomOverSampler\n",
    "\n",
    "X = imdb[['cleaned_review','inline-comment-id']]\n",
    "y = imdb['Final Label']\n",
    "\n",
    "from sklearn.model_selection import train_test_split\n",
    "X_train, X_test, y_train, y_test = train_test_split(X,y, test_size=0.4)\n",
    "\n",
    "ros = RandomOverSampler(random_state=10)\n",
    "X_resampled, y_resampled = ros.fit_resample(X_train, y_train)\n",
    "\n",
    "lr2 = LogisticRegression() \n",
    "lr2.fit(X_resampled, y_resampled.ravel()) \n"
   ]
  },
  {
   "cell_type": "markdown",
   "metadata": {},
   "source": [
    "## TASK 4 ACCURACY"
   ]
  },
  {
   "cell_type": "code",
   "execution_count": 17,
   "metadata": {},
   "outputs": [
    {
     "name": "stdout",
     "output_type": "stream",
     "text": [
      "Task 4 Accuracy\n"
     ]
    },
    {
     "data": {
      "text/plain": [
       "0.325"
      ]
     },
     "execution_count": 17,
     "metadata": {},
     "output_type": "execute_result"
    }
   ],
   "source": [
    "print(\"Task 4 Accuracy\")\n",
    "clf.score( X_test,y_test)"
   ]
  },
  {
   "cell_type": "code",
   "execution_count": 18,
   "metadata": {},
   "outputs": [
    {
     "data": {
      "text/plain": [
       "(165, 2)"
      ]
     },
     "execution_count": 18,
     "metadata": {},
     "output_type": "execute_result"
    }
   ],
   "source": [
    "X_resampled.shape"
   ]
  },
  {
   "cell_type": "code",
   "execution_count": 19,
   "metadata": {},
   "outputs": [
    {
     "data": {
      "text/plain": [
       "(60, 2)"
      ]
     },
     "execution_count": 19,
     "metadata": {},
     "output_type": "execute_result"
    }
   ],
   "source": [
    "X_train.shape"
   ]
  },
  {
   "cell_type": "code",
   "execution_count": 20,
   "metadata": {},
   "outputs": [
    {
     "data": {
      "text/plain": [
       "(165,)"
      ]
     },
     "execution_count": 20,
     "metadata": {},
     "output_type": "execute_result"
    }
   ],
   "source": [
    "y_resampled.shape"
   ]
  },
  {
   "cell_type": "code",
   "execution_count": 21,
   "metadata": {},
   "outputs": [
    {
     "data": {
      "text/plain": [
       "(60,)"
      ]
     },
     "execution_count": 21,
     "metadata": {},
     "output_type": "execute_result"
    }
   ],
   "source": [
    "y_train.shape"
   ]
  },
  {
   "cell_type": "code",
   "execution_count": null,
   "metadata": {},
   "outputs": [],
   "source": []
  }
 ],
 "metadata": {
  "kernelspec": {
   "display_name": "Python 3",
   "language": "python",
   "name": "python3"
  },
  "language_info": {
   "codemirror_mode": {
    "name": "ipython",
    "version": 3
   },
   "file_extension": ".py",
   "mimetype": "text/x-python",
   "name": "python",
   "nbconvert_exporter": "python",
   "pygments_lexer": "ipython3",
   "version": "3.8.5"
  }
 },
 "nbformat": 4,
 "nbformat_minor": 4
}
